{
 "cells": [
  {
   "cell_type": "markdown",
   "metadata": {},
   "source": [
    "### Problem Description\n",
    "\n",
    "In this problem, a saloon owner wants to determine the schedule for staff members. The staff consists of the full-time shift of 9 hours and part-time shift of 3 hours.  The saloon’s opening hours are divided into 4 shifts of 3 hours each. In each shift, different levels of demands are there that need the different number of staff members in each shift.\n",
    "\n",
    "The required number of hair dressers for each shift is mentioned in the below table:\n",
    "\n",
    "|  Shift  ||    Time Period   ||   Number of Employees  |\n",
    "| :---:        ||    :----:   ||      :---: |\n",
    "|  Morning  ||    09AM-12PM  ||  6  |\n",
    "|  Afternoon  ||    12-03PM  ||   11  |\n",
    "|  Evening  || 3-06PM   ||   8  |\n",
    "|  Night  ||    3-09PM   ||   6  |\n",
    "\n",
    "There is at least 1 full-time employee we need in each shift. The full-time employee will get 150 EUR for 9 hours shift and the part-time employee will get 45 EURO per shift."
   ]
  },
  {
   "cell_type": "markdown",
   "metadata": {},
   "source": [
    "## Model Formulation\n",
    "Mathematical programming is a declarative approach where the modeler formulates a mathematical optimization problem that captures the key features of a complex decision problem. The Gurobi Optimizer solves the mathematical optimization problem using state-of-the-art mathematics and computer science.\n",
    "\n",
    "A mathematical optimization model has five components:\n",
    "- Sets.\n",
    "- Parameters.\n",
    "- Decision variables.\n",
    "- Constraints.\n",
    "- Objective function(s).\n",
    "\n",
    "### Sets and Indices\n",
    "\n",
    "$s \\in shifts$ = {Morning, Afternoon, Evening, Night}: Index and set of shifts.\n",
    "\n",
    "$w \\in workers= {Fulltime, Partime}$: Index and set of employed workers either Part-time or Fulltime.\n",
    "\n",
    "$availability= \\{(w,s): w \\in workers \\; \\text{is available for} \\; s \\in \\text{shifts} \\}$: This set determines that the employed worker  $w$ is available to work on shift $s$.\n",
    "\n",
    "### Parameters\n",
    "\n",
    "$\\text{shiftRequirements}(s) \\in \\mathbb{N}$: This parameter represents the number of workers required at each shift \n",
    "$s \\in \\text{shifts}$.\n",
    "\n",
    "$pay(w) \\in \\mathbb{R^{+}}$: This parameter is the salary per day of each worker type $w \\in workers$. \n",
    "\n",
    "\n",
    "### Decision Variables\n",
    "\n",
    "$x(s)$: Number of full-time employees scheduled in shift $s \\in \\text{shifts}$, if the employee is Full-time.\n",
    "\n",
    "$y(s)$: Number of part-time employees scheduled in shift $s \\in \\text{shifts}$ , if the employee is Part-time.\n",
    "\n",
    "\n",
    "## Optimization Process\n",
    "\n",
    "In this modeling example, the objective is to minimize the cost of  workers required to satisfy shift requirements.\n",
    "\n",
    "- **objective:** The objective function is to minimize the cost of  workers required to satisfy shift requirements.\n",
    " \n",
    "\\begin{equation}\n",
    "\\text{Min} \\quad \n",
    "\\sum_{w \\: \\in \\: workers} pay(w)*x(s)  + \\sum_{w \\: \\in \\: workers} pay(w)*y(s) =  \\quad \\forall \\; s \\in \\text{shifts}\n",
    "\\tag{0}\n",
    "\\end{equation}\n",
    "\n",
    "### Constraints\n",
    "\n",
    "- **Shift requirements:**  Employee starting shift constraint requirements must be satisfied.\n",
    "\n",
    "\\begin{equation}\n",
    "\\sum_{w \\: \\in \\: workers} x(s)  +  y(s) = \\text{shiftRequirements}(s) \\quad \\forall \\; s \\in shifts = {Morning}\n",
    "\\tag{1}\n",
    "\\end{equation}\n",
    "\n",
    "\\begin{equation}\n",
    "\\sum_{w \\: \\in \\: workers} x(s)  +  y(s) = \\text{shiftRequirements}(s) \\quad \\forall \\; s \\in shifts = {Morning, Afternoon } \n",
    "\\tag{2}\n",
    "\\end{equation}\n",
    "\n",
    "\\begin{equation}\n",
    "\\sum_{w \\: \\in \\: workers} x(s)  +  x(s) +  y(s)  = \\text{shiftRequirements}(s) \\quad \\forall \\; s \\in shifts = {Afternoon, evening } \n",
    "\\tag{3}\n",
    "\\end{equation}\n",
    "\n",
    "\\begin{equation}\n",
    "\\sum_{w \\: \\in \\: workers} x(s)  +  x(s) +  y(s)  = \\text{shiftRequirements}(s) \\quad \\forall \\; s \\in shifts = {Afternoon, night } \n",
    "\\tag{4}\n",
    "\\end{equation}\n",
    "\n",
    "\n",
    "\n",
    "- **Shifts:** Minimum full-time employees during any shift/period.\n",
    "\n",
    "\\begin{equation}\n",
    "\\sum_{w \\: \\in \\: \\text{workers}} x(s)  = \\text{shiftRequiremnts}(w) \\geq 1 \\quad \\forall \\; w \\in workers\n",
    "\\tag{3}\n",
    "\\end{equation}\n",
    "\n",
    "We now solve the following model where we minimize the  objective.\n"
   ]
  },
  {
   "cell_type": "code",
   "execution_count": 1,
   "metadata": {},
   "outputs": [],
   "source": [
    "import gurobipy as gp\n",
    "from gurobipy import GRB\n",
    "\n",
    "import numpy as np\n",
    "import pandas as pd"
   ]
  },
  {
   "cell_type": "code",
   "execution_count": 2,
   "metadata": {},
   "outputs": [],
   "source": [
    "#Parameters            \n",
    "shifts = list(range(4))"
   ]
  },
  {
   "cell_type": "code",
   "execution_count": 3,
   "metadata": {},
   "outputs": [
    {
     "name": "stdout",
     "output_type": "stream",
     "text": [
      "Set parameter Username\n",
      "Academic license - for non-commercial use only - expires 2022-08-05\n"
     ]
    }
   ],
   "source": [
    "model = gp.Model(\"staff_scheduling\")"
   ]
  },
  {
   "cell_type": "code",
   "execution_count": 4,
   "metadata": {},
   "outputs": [],
   "source": [
    "#Initialize assignment decision variables.\n",
    "x = model.addVars(shifts, vtype=GRB.INTEGER, name=\"fulltime\")\n",
    "y = model.addVars(shifts, vtype=GRB.INTEGER, name=\"part_time\")"
   ]
  },
  {
   "cell_type": "code",
   "execution_count": 5,
   "metadata": {},
   "outputs": [],
   "source": [
    "#Objective\n",
    "model.setObjective(gp.quicksum(150*x[s]  + 45*y[s] \n",
    "                    for s in shifts), GRB.MINIMIZE )\n"
   ]
  },
  {
   "cell_type": "code",
   "execution_count": 6,
   "metadata": {},
   "outputs": [],
   "source": [
    "# Constraint 1: morning shift requirements\n",
    "morning_shift = model.addConstrs(\n",
    "    (gp.quicksum(x[i] + y[j] for i in shifts if i == 0 ) >= 6 \n",
    "    for j in shifts if j == 0 ), name=\"Morning\")\n",
    "\n",
    "\n",
    "# Constraint 2: afternoon shift requirements\n",
    "Afternoon_shift = model.addConstrs(\n",
    "    (gp.quicksum(x[m]  + x[a] + y[a] for m in shifts if m == 0 )  >= 8 \n",
    "    for a in shifts if a == 1), name=\"Afternoon\")\n",
    "\n",
    "# Constraint 3: afternoon shift requirements\n",
    "Evening_shift = model.addConstrs(\n",
    "    (gp.quicksum(x[a]  + x[e] + y[e] for a in shifts if a == 1 )  >= 11\n",
    "     for e in shifts if e == 2), name=\"Evening\")\n",
    "\n",
    "# Constraint 4: afternoon shift requirements\n",
    "Night_shift = model.addConstrs(\n",
    "    (gp.quicksum(x[e]  + x[n] + y[n] for e in shifts if e == 2 )  >= 6\n",
    "     for n in shifts if n == 3 \n",
    "     ), name=\"Night\")\n",
    "\n",
    "#Constraint 5:Minimum full-time employees during any shift/period\n",
    "\n",
    "Fulltime_morning = model.addConstrs(\n",
    "    (x[f] >= 1 for f in shifts if f == 0 ), name=\"fulltime_morning\" )\n",
    "\n",
    "Fulltime_afternoon = model.addConstrs(\n",
    "    (x[f] >= 1 for f in shifts if f == 1 ), name=\"fulltime_afternoon\" )\n",
    "\n",
    "Fulltime_evening = model.addConstrs(\n",
    "    (x[f] >= 1 for f in shifts if f == 2 ), name=\"fulltime_afternoon\" )"
   ]
  },
  {
   "cell_type": "code",
   "execution_count": 7,
   "metadata": {},
   "outputs": [
    {
     "name": "stdout",
     "output_type": "stream",
     "text": [
      "Gurobi Optimizer version 9.5.0 build v9.5.0rc5 (win64)\n",
      "Thread count: 2 physical cores, 2 logical processors, using up to 2 threads\n",
      "Optimize a model with 7 rows, 8 columns and 14 nonzeros\n",
      "Model fingerprint: 0x14b4f9a7\n",
      "Variable types: 0 continuous, 8 integer (0 binary)\n",
      "Coefficient statistics:\n",
      "  Matrix range     [1e+00, 1e+00]\n",
      "  Objective range  [5e+01, 2e+02]\n",
      "  Bounds range     [0e+00, 0e+00]\n",
      "  RHS range        [1e+00, 1e+01]\n",
      "Found heuristic solution: objective 1575.0000000\n",
      "Presolve removed 3 rows and 1 columns\n",
      "Presolve time: 0.10s\n",
      "Presolved: 4 rows, 7 columns, 10 nonzeros\n",
      "Variable types: 0 continuous, 7 integer (0 binary)\n",
      "\n",
      "Root relaxation: cutoff, 0 iterations, 0.03 seconds (0.00 work units)\n",
      "\n",
      "Explored 1 nodes (0 simplex iterations) in 0.67 seconds (0.00 work units)\n",
      "Thread count was 2 (of 2 available processors)\n",
      "\n",
      "Solution count 1: 1575 \n",
      "\n",
      "Optimal solution found (tolerance 1.00e-04)\n",
      "Best objective 1.575000000000e+03, best bound 1.575000000000e+03, gap 0.0000%\n"
     ]
    }
   ],
   "source": [
    "#solve\n",
    "model.optimize()"
   ]
  },
  {
   "cell_type": "code",
   "execution_count": 8,
   "metadata": {},
   "outputs": [
    {
     "name": "stdout",
     "output_type": "stream",
     "text": [
      "Minimize\n",
      "<gurobi.LinExpr: 150.0 fulltime[0] + 150.0 fulltime[1] + 150.0 fulltime[2]\n",
      "+ 150.0 fulltime[3] + 45.0 part_time[0] + 45.0 part_time[1] + 45.0 part_time[2]\n",
      "+ 45.0 part_time[3]>\n",
      "Subject To\n",
      "  Morning[0]: <gurobi.LinExpr: fulltime[0] + part_time[0]> >= 6\n",
      "  Afternoon[1]: <gurobi.LinExpr: fulltime[0] + fulltime[1] + part_time[1]> >= 8\n",
      "  Evening[2]: <gurobi.LinExpr: fulltime[1] + fulltime[2] + part_time[2]> >= 11\n",
      "  Night[3]: <gurobi.LinExpr: fulltime[2] + fulltime[3] + part_time[3]> >= 6\n",
      "  fulltime_morning[0]: <gurobi.LinExpr: fulltime[0]> >= 1\n",
      "  fulltime_afternoon[1]: <gurobi.LinExpr: fulltime[1]> >= 1\n",
      "  fulltime_afternoon[2]: <gurobi.LinExpr: fulltime[2]> >= 1\n",
      "General Integers\n",
      "['fulltime[0]', 'fulltime[1]', 'fulltime[2]', 'fulltime[3]', 'part_time[0]',\n",
      " 'part_time[1]', 'part_time[2]', 'part_time[3]']\n"
     ]
    }
   ],
   "source": [
    "#Display model\n",
    "model.display()"
   ]
  },
  {
   "cell_type": "code",
   "execution_count": 11,
   "metadata": {},
   "outputs": [
    {
     "name": "stdout",
     "output_type": "stream",
     "text": [
      "Total cost of Employee assigned: 1575 \n",
      "fulltime[0] 1.0\n",
      "fulltime[1] 1.0\n",
      "fulltime[2] 1.0\n",
      "fulltime[3] -0.0\n",
      "part_time[0] 5.0\n",
      "part_time[1] 6.0\n",
      "part_time[2] 9.0\n",
      "part_time[3] 5.0\n"
     ]
    }
   ],
   "source": [
    "\n",
    "#Output report\n",
    "\n",
    "print(f\"Total cost of Employee assigned: {round(model.objVal)} \") \n",
    "\n",
    "\n",
    "\n",
    "for v in model.getVars():\n",
    "    print(v.varName,v.x)\n",
    "\n"
   ]
  }
 ],
 "metadata": {
  "kernelspec": {
   "display_name": "Python 3",
   "language": "python",
   "name": "python3"
  },
  "language_info": {
   "codemirror_mode": {
    "name": "ipython",
    "version": 3
   },
   "file_extension": ".py",
   "mimetype": "text/x-python",
   "name": "python",
   "nbconvert_exporter": "python",
   "pygments_lexer": "ipython3",
   "version": "3.8.5"
  }
 },
 "nbformat": 4,
 "nbformat_minor": 4
}
